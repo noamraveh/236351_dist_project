{
 "cells": [
  {
   "cell_type": "code",
   "execution_count": 38,
   "id": "fd2fed3e",
   "metadata": {
    "scrolled": true
   },
   "outputs": [],
   "source": [
    "import requests\n",
    "import json\n",
    "import random \n",
    "\n",
    "URL = \"http://localhost:\"\n",
    "ports = range(10000,10009)\n",
    "def random_url():\n",
    "    return (URL + str(random.choice(ports))+\"/\")\n",
    "\n",
    "def address(addr):\n",
    "    return str(addr).rjust(16, '0')\n"
   ]
  },
  {
   "cell_type": "markdown",
   "id": "fd3fc86c",
   "metadata": {},
   "source": [
    "### View initial state"
   ]
  },
  {
   "cell_type": "code",
   "execution_count": 39,
   "id": "5e3cc7db",
   "metadata": {
    "tags": []
   },
   "outputs": [
    {
     "name": "stdout",
     "output_type": "stream",
     "text": [
      "INITIAL UTXO\n",
      " {\n",
      "  \"utxos\": [{\n",
      "    \"txId\": \"0x00000000001\",\n",
      "    \"utxoId\": \"00000000-0000-0000-0000-000000000000\",\n",
      "    \"addr\": \"0000000000000000\",\n",
      "    \"coins\": \"9223372036854775807\"\n",
      "  }]\n",
      "}\n"
     ]
    }
   ],
   "source": [
    "initial_utxo = requests.get(random_url() + \"utxos/\" + address(0)).content.decode('utf-8')\n",
    "print(f\"INITIAL UTXO\\n {initial_utxo}\")"
   ]
  },
  {
   "cell_type": "markdown",
   "id": "e36bd0d7",
   "metadata": {},
   "source": [
    "### Send money between addresses handled by different shards\n"
   ]
  },
  {
   "cell_type": "code",
   "execution_count": 40,
   "id": "618ae69f",
   "metadata": {
    "scrolled": true
   },
   "outputs": [
    {
     "data": {
      "text/plain": [
       "<Response [200]>"
      ]
     },
     "execution_count": 40,
     "metadata": {},
     "output_type": "execute_result"
    }
   ],
   "source": [
    "# from 0 to 1\n",
    "requests.post(random_url() + \"sendCoins\", params={\"to\": address(1), \"from\": address(0), \"coins\": \"100\"})\n",
    "# from 1 to 2\n",
    "requests.post(random_url() + \"sendCoins\", params={\"to\": address(2), \"from\": address(1), \"coins\": \"90\"})\n",
    "# from 2 to 3\n",
    "requests.post(random_url() + \"sendCoins\", params={\"to\": address(3), \"from\": address(2), \"coins\": \"80\"})\n",
    "# from 3 to 4\n",
    "requests.post(random_url() + \"sendCoins\", params={\"to\": address(4), \"from\": address(3), \"coins\": \"70\"})\n",
    "# from 4 to 1\n",
    "requests.post(random_url() + \"sendCoins\", params={\"to\": address(1), \"from\": address(4), \"coins\": \"60\"})"
   ]
  },
  {
   "cell_type": "markdown",
   "id": "0b208545",
   "metadata": {},
   "source": [
    "### Get UTxOs after send money series"
   ]
  },
  {
   "cell_type": "code",
   "execution_count": 41,
   "id": "1c9580cf",
   "metadata": {
    "tags": []
   },
   "outputs": [
    {
     "name": "stdout",
     "output_type": "stream",
     "text": [
      "\n",
      "1 UTxOs\n",
      "\n",
      "{\n",
      "  \"utxos\": [{\n",
      "    \"txId\": \"0c88d434-7a73-456a-8e97-7866eafec899\",\n",
      "    \"utxoId\": \"fb050ba2-2cac-3746-8f28-b8f52fa79756\",\n",
      "    \"addr\": \"0000000000000001\",\n",
      "    \"coins\": \"10\"\n",
      "  }, {\n",
      "    \"txId\": \"a5e13722-b44b-4784-8d62-b548b0962f43\",\n",
      "    \"utxoId\": \"540049d8-bdeb-3955-9807-816bac6eb9f6\",\n",
      "    \"addr\": \"0000000000000001\",\n",
      "    \"coins\": \"60\"\n",
      "  }]\n",
      "}\n",
      "\n",
      "2 UTxOs\n",
      "\n",
      "{\n",
      "  \"utxos\": [{\n",
      "    \"txId\": \"054ec576-0e31-4997-ab80-5499fdccf4ed\",\n",
      "    \"utxoId\": \"efd07a94-5320-3baf-8624-0a9e6513c39e\",\n",
      "    \"addr\": \"0000000000000002\",\n",
      "    \"coins\": \"10\"\n",
      "  }]\n",
      "}\n",
      "\n",
      "3 UTxOs\n",
      "\n",
      "{\n",
      "  \"utxos\": [{\n",
      "    \"txId\": \"1ef9512b-6f43-4637-a8f0-20880eed249e\",\n",
      "    \"utxoId\": \"c719c251-e0b5-3d1d-8f16-9bee7e83e74f\",\n",
      "    \"addr\": \"0000000000000003\",\n",
      "    \"coins\": \"10\"\n",
      "  }]\n",
      "}\n",
      "\n",
      "4 UTxOs\n",
      "\n",
      "{\n",
      "  \"utxos\": [{\n",
      "    \"txId\": \"a5e13722-b44b-4784-8d62-b548b0962f43\",\n",
      "    \"utxoId\": \"8d471940-c0ba-377e-89d8-de3ba3ec50d9\",\n",
      "    \"addr\": \"0000000000000004\",\n",
      "    \"coins\": \"10\"\n",
      "  }]\n",
      "}\n"
     ]
    }
   ],
   "source": [
    "for addr in range(1, 5):\n",
    "\tutxos = requests.get(random_url() + \"utxos/\" + address(addr)).content.decode('utf-8')\n",
    "\tprint(f\"\\n{addr} UTxOs\\n\\n{utxos}\")"
   ]
  },
  {
   "cell_type": "markdown",
   "id": "f775d91e",
   "metadata": {},
   "source": [
    "### Get ledger history for address 0"
   ]
  },
  {
   "cell_type": "code",
   "execution_count": 42,
   "id": "1bd3349e",
   "metadata": {
    "tags": []
   },
   "outputs": [
    {
     "name": "stdout",
     "output_type": "stream",
     "text": [
      "Ledger for 0 \n",
      "This is the history for address 0000000000000000:\n",
      "{\n",
      "  \"txs\": [{\n",
      "    \"txId\": \"359a2568-def8-42d4-a963-2b50735afc27\",\n",
      "    \"inputs\": [{\n",
      "      \"txId\": \"0x00000000001\",\n",
      "      \"utxoId\": \"00000000-0000-0000-0000-000000000000\",\n",
      "      \"addr\": \"0000000000000000\",\n",
      "      \"coins\": \"9223372036854775807\"\n",
      "    }],\n",
      "    \"outputs\": [{\n",
      "      \"addr\": \"0000000000000001\",\n",
      "      \"coins\": \"100\"\n",
      "    }, {\n",
      "      \"addr\": \"0000000000000000\",\n",
      "      \"coins\": \"9223372036854775707\"\n",
      "    }],\n",
      "    \"timestamp\": \"2022-01-26T17:49:59.454Z\"\n",
      "  }]\n",
      "}\n"
     ]
    }
   ],
   "source": [
    "ledger = requests.get(random_url() + \"ledger/\" + address(0)).content.decode('utf-8')\n",
    "print(f\"Ledger for 0 \\n{ledger}\")"
   ]
  },
  {
   "cell_type": "markdown",
   "id": "f1eeacb3",
   "metadata": {},
   "source": [
    "### Get entire ledger history"
   ]
  },
  {
   "cell_type": "code",
   "execution_count": 43,
   "id": "412ab5dc",
   "metadata": {
    "tags": []
   },
   "outputs": [
    {
     "name": "stdout",
     "output_type": "stream",
     "text": [
      "This is the entire ledger history at the moment:\n",
      "{\n",
      "  \"txs\": [{\n",
      "    \"txId\": \"a5e13722-b44b-4784-8d62-b548b0962f43\",\n",
      "    \"inputs\": [{\n",
      "      \"txId\": \"1ef9512b-6f43-4637-a8f0-20880eed249e\",\n",
      "      \"utxoId\": \"445819a2-d8aa-3f6e-81c4-fa0947cbbb21\",\n",
      "      \"addr\": \"0000000000000004\",\n",
      "      \"coins\": \"70\"\n",
      "    }],\n",
      "    \"outputs\": [{\n",
      "      \"addr\": \"0000000000000001\",\n",
      "      \"coins\": \"60\"\n",
      "    }, {\n",
      "      \"addr\": \"0000000000000004\",\n",
      "      \"coins\": \"10\"\n",
      "    }],\n",
      "    \"timestamp\": \"2022-01-26T17:50:02.417Z\"\n",
      "  }, {\n",
      "    \"txId\": \"054ec576-0e31-4997-ab80-5499fdccf4ed\",\n",
      "    \"inputs\": [{\n",
      "      \"txId\": \"0c88d434-7a73-456a-8e97-7866eafec899\",\n",
      "      \"utxoId\": \"9354ba62-7060-3a15-ae06-4084be9bed51\",\n",
      "      \"addr\": \"0000000000000002\",\n",
      "      \"coins\": \"90\"\n",
      "    }],\n",
      "    \"outputs\": [{\n",
      "      \"addr\": \"0000000000000003\",\n",
      "      \"coins\": \"80\"\n",
      "    }, {\n",
      "      \"addr\": \"0000000000000002\",\n",
      "      \"coins\": \"10\"\n",
      "    }],\n",
      "    \"timestamp\": \"2022-01-26T17:50:01.650Z\"\n",
      "  }, {\n",
      "    \"txId\": \"1ef9512b-6f43-4637-a8f0-20880eed249e\",\n",
      "    \"inputs\": [{\n",
      "      \"txId\": \"054ec576-0e31-4997-ab80-5499fdccf4ed\",\n",
      "      \"utxoId\": \"87c4f708-7dcc-3ee3-8336-20a476246f8d\",\n",
      "      \"addr\": \"0000000000000003\",\n",
      "      \"coins\": \"80\"\n",
      "    }],\n",
      "    \"outputs\": [{\n",
      "      \"addr\": \"0000000000000004\",\n",
      "      \"coins\": \"70\"\n",
      "    }, {\n",
      "      \"addr\": \"0000000000000003\",\n",
      "      \"coins\": \"10\"\n",
      "    }],\n",
      "    \"timestamp\": \"2022-01-26T17:50:01.879Z\"\n",
      "  }, {\n",
      "    \"txId\": \"0c88d434-7a73-456a-8e97-7866eafec899\",\n",
      "    \"inputs\": [{\n",
      "      \"txId\": \"359a2568-def8-42d4-a963-2b50735afc27\",\n",
      "      \"utxoId\": \"d9fec8ba-5c9b-33cf-9553-6d2fc033debd\",\n",
      "      \"addr\": \"0000000000000001\",\n",
      "      \"coins\": \"100\"\n",
      "    }],\n",
      "    \"outputs\": [{\n",
      "      \"addr\": \"0000000000000002\",\n",
      "      \"coins\": \"90\"\n",
      "    }, {\n",
      "      \"addr\": \"0000000000000001\",\n",
      "      \"coins\": \"10\"\n",
      "    }],\n",
      "    \"timestamp\": \"2022-01-26T17:50:01.279Z\"\n",
      "  }, {\n",
      "    \"txId\": \"359a2568-def8-42d4-a963-2b50735afc27\",\n",
      "    \"inputs\": [{\n",
      "      \"txId\": \"0x00000000001\",\n",
      "      \"utxoId\": \"00000000-0000-0000-0000-000000000000\",\n",
      "      \"addr\": \"0000000000000000\",\n",
      "      \"coins\": \"9223372036854775807\"\n",
      "    }],\n",
      "    \"outputs\": [{\n",
      "      \"addr\": \"0000000000000001\",\n",
      "      \"coins\": \"100\"\n",
      "    }, {\n",
      "      \"addr\": \"0000000000000000\",\n",
      "      \"coins\": \"9223372036854775707\"\n",
      "    }],\n",
      "    \"timestamp\": \"2022-01-26T17:49:59.454Z\"\n",
      "  }]\n",
      "}\n"
     ]
    }
   ],
   "source": [
    "ledger = requests.get(random_url() + \"ledger/\").content.decode('utf-8')\n",
    "print(f\"{ledger}\")"
   ]
  },
  {
   "cell_type": "markdown",
   "id": "2f528f1f",
   "metadata": {},
   "source": [
    "### Make a transaction"
   ]
  },
  {
   "cell_type": "markdown",
   "id": "56fdc603",
   "metadata": {},
   "source": [
    "Transfer half of the coins for address 1 to address 0"
   ]
  },
  {
   "cell_type": "code",
   "execution_count": 44,
   "id": "c1e4430b",
   "metadata": {
    "tags": []
   },
   "outputs": [
    {
     "name": "stdout",
     "output_type": "stream",
     "text": [
      "Submitted successfully with ID c6cca89a-92c3-44b6-b72b-e5fe559725f0 \n"
     ]
    }
   ],
   "source": [
    "\n",
    "def build_tx(src, dst):\n",
    "    src = address(src)\n",
    "    dst = address(dst)\n",
    "    \n",
    "    utxos_1 = json.loads(requests.get(random_url() + \"utxos/\" + src).content.decode('utf-8'))\n",
    "    coins = sum([int(utxo['coins']) for utxo in utxos_1['utxos']]) \n",
    "    half_coins = coins // 2\n",
    "    output1 = {\"addr\": dst, \"coins\": str(half_coins)}\n",
    "    output2 = {\"addr\": src, \"coins\": str(coins-half_coins)}\n",
    "    new_tx = {}\n",
    "    new_tx['inputs'] = utxos_1['utxos']\n",
    "    new_tx['outputs'] = output1,output2\n",
    "    return new_tx\n",
    "\n",
    "\n",
    "new_tx = json.dumps(build_tx(0, 1)).encode('utf-8')\n",
    "res = requests.post(random_url() + \"submitTx\", data=new_tx, headers={'Content-Type': 'application/json'})\n",
    "print(res.content.decode('utf-8'))"
   ]
  },
  {
   "cell_type": "markdown",
   "id": "c4f00c35",
   "metadata": {},
   "source": [
    "### Print updated UTxOs for 0 and 1 after the transaction"
   ]
  },
  {
   "cell_type": "code",
   "execution_count": 45,
   "id": "0d94777d",
   "metadata": {
    "tags": []
   },
   "outputs": [
    {
     "name": "stdout",
     "output_type": "stream",
     "text": [
      "\n",
      "0 UTxOs\n",
      "\n",
      "{\n",
      "  \"utxos\": [{\n",
      "    \"txId\": \"c6cca89a-92c3-44b6-b72b-e5fe559725f0\",\n",
      "    \"utxoId\": \"4a5da852-d0da-3a18-98bc-f353637303ca\",\n",
      "    \"addr\": \"0000000000000000\",\n",
      "    \"coins\": \"4611686018427387854\"\n",
      "  }]\n",
      "}\n",
      "\n",
      "1 UTxOs\n",
      "\n",
      "{\n",
      "  \"utxos\": [{\n",
      "    \"txId\": \"0c88d434-7a73-456a-8e97-7866eafec899\",\n",
      "    \"utxoId\": \"fb050ba2-2cac-3746-8f28-b8f52fa79756\",\n",
      "    \"addr\": \"0000000000000001\",\n",
      "    \"coins\": \"10\"\n",
      "  }, {\n",
      "    \"txId\": \"a5e13722-b44b-4784-8d62-b548b0962f43\",\n",
      "    \"utxoId\": \"540049d8-bdeb-3955-9807-816bac6eb9f6\",\n",
      "    \"addr\": \"0000000000000001\",\n",
      "    \"coins\": \"60\"\n",
      "  }, {\n",
      "    \"txId\": \"c6cca89a-92c3-44b6-b72b-e5fe559725f0\",\n",
      "    \"utxoId\": \"79b769b0-3c2e-32ab-ab02-92ea94575cb1\",\n",
      "    \"addr\": \"0000000000000001\",\n",
      "    \"coins\": \"4611686018427387853\"\n",
      "  }]\n",
      "}\n"
     ]
    }
   ],
   "source": [
    "for addr in range(0, 2):\n",
    "\tutxos = requests.get(random_url() + \"utxos/\" + address(addr)).content.decode('utf-8')\n",
    "\tprint(f\"\\n{addr} UTxOs\\n\\n{utxos}\")"
   ]
  },
  {
   "cell_type": "markdown",
   "id": "3633a603-d831-4d5e-b87f-8610ff393b6a",
   "metadata": {},
   "source": [
    "## Atomic List"
   ]
  },
  {
   "cell_type": "code",
   "execution_count": 46,
   "id": "6edd2cd9",
   "metadata": {},
   "outputs": [],
   "source": [
    "def build_atomic():\n",
    "    \n",
    "    tx_list = list()\n",
    "    \n",
    "    for src, dst in zip([0, 1, 2, 3, 4], [1, 2, 3, 4, 0]):\n",
    "        tx_list.append(build_tx(src, dst))\n",
    "    \n",
    "    return {\"txs\": tx_list}\n",
    "    "
   ]
  },
  {
   "cell_type": "code",
   "execution_count": 47,
   "id": "b1f0b9a0-1495-4c5b-bd25-35fb3197bf3d",
   "metadata": {},
   "outputs": [
    {
     "name": "stdout",
     "output_type": "stream",
     "text": [
      "{\n",
      "  \"txIdsList\": [{\n",
      "    \"txId\": \"Submitted successfully with ID 72f8d434-008e-45ec-bb86-d3b9b6f0982d \"\n",
      "  }, {\n",
      "    \"txId\": \"Submitted successfully with ID 2ab05113-1979-4b8d-8f0a-b09821aff17b \"\n",
      "  }, {\n",
      "    \"txId\": \"Submitted successfully with ID f0bac8a2-15c4-4db9-9b35-4eb7547c938c \"\n",
      "  }, {\n",
      "    \"txId\": \"Submitted successfully with ID 427c9215-002a-4572-9f95-1b884f2da498 \"\n",
      "  }, {\n",
      "    \"txId\": \"Submitted successfully with ID a130e924-5a1e-4483-bd84-05465b613059 \"\n",
      "  }]\n",
      "}\n"
     ]
    }
   ],
   "source": [
    "\n",
    "atomic_tx_list = json.dumps(build_atomic()).encode('utf-8')\n",
    "\n",
    "res = requests.post(random_url() + \"submitAtomicTxList\", data=atomic_tx_list, headers={'Content-Type': 'application/json'})\n",
    "print(res.content.decode('utf-8'))\n"
   ]
  },
  {
   "cell_type": "code",
   "execution_count": 48,
   "id": "e192a210-2614-426f-8e7a-5b953245606d",
   "metadata": {},
   "outputs": [
    {
     "name": "stdout",
     "output_type": "stream",
     "text": [
      "\n",
      "0 UTxOs\n",
      "\n",
      "{\n",
      "  \"utxos\": [{\n",
      "    \"txId\": \"72f8d434-008e-45ec-bb86-d3b9b6f0982d\",\n",
      "    \"utxoId\": \"11e2624e-03d2-3079-a76a-f2bace2e2568\",\n",
      "    \"addr\": \"0000000000000000\",\n",
      "    \"coins\": \"2305843009213693927\"\n",
      "  }, {\n",
      "    \"txId\": \"a130e924-5a1e-4483-bd84-05465b613059\",\n",
      "    \"utxoId\": \"3e8f6089-ec4b-35fe-86ac-2ade739e03b0\",\n",
      "    \"addr\": \"0000000000000000\",\n",
      "    \"coins\": \"5\"\n",
      "  }]\n",
      "}\n",
      "\n",
      "1 UTxOs\n",
      "\n",
      "{\n",
      "  \"utxos\": [{\n",
      "    \"txId\": \"72f8d434-008e-45ec-bb86-d3b9b6f0982d\",\n",
      "    \"utxoId\": \"f94a55b5-3ea1-39c2-a777-e9f553b3c4a6\",\n",
      "    \"addr\": \"0000000000000001\",\n",
      "    \"coins\": \"2305843009213693927\"\n",
      "  }, {\n",
      "    \"txId\": \"2ab05113-1979-4b8d-8f0a-b09821aff17b\",\n",
      "    \"utxoId\": \"8e77242c-c897-3ffb-8d31-f7c840de4685\",\n",
      "    \"addr\": \"0000000000000001\",\n",
      "    \"coins\": \"2305843009213693962\"\n",
      "  }]\n",
      "}\n",
      "\n",
      "2 UTxOs\n",
      "\n",
      "{\n",
      "  \"utxos\": [{\n",
      "    \"txId\": \"2ab05113-1979-4b8d-8f0a-b09821aff17b\",\n",
      "    \"utxoId\": \"30eda503-c4e7-347b-88aa-30ee934e22c6\",\n",
      "    \"addr\": \"0000000000000002\",\n",
      "    \"coins\": \"2305843009213693961\"\n",
      "  }, {\n",
      "    \"txId\": \"f0bac8a2-15c4-4db9-9b35-4eb7547c938c\",\n",
      "    \"utxoId\": \"653e2a3e-6b27-3f96-9134-48edd66cde9f\",\n",
      "    \"addr\": \"0000000000000002\",\n",
      "    \"coins\": \"5\"\n",
      "  }]\n",
      "}\n",
      "\n",
      "3 UTxOs\n",
      "\n",
      "{\n",
      "  \"utxos\": [{\n",
      "    \"txId\": \"f0bac8a2-15c4-4db9-9b35-4eb7547c938c\",\n",
      "    \"utxoId\": \"140df6ed-d041-36b1-845c-d5f31f803fec\",\n",
      "    \"addr\": \"0000000000000003\",\n",
      "    \"coins\": \"5\"\n",
      "  }, {\n",
      "    \"txId\": \"427c9215-002a-4572-9f95-1b884f2da498\",\n",
      "    \"utxoId\": \"08e60589-9f72-3805-83c2-0bd02f70382f\",\n",
      "    \"addr\": \"0000000000000003\",\n",
      "    \"coins\": \"5\"\n",
      "  }]\n",
      "}\n"
     ]
    }
   ],
   "source": [
    "for addr in range(0, 4):\n",
    "\tutxos = requests.get(random_url() + \"utxos/\" + address(addr)).content.decode('utf-8')\n",
    "\tprint(f\"\\n{addr} UTxOs\\n\\n{utxos}\")"
   ]
  },
  {
   "cell_type": "code",
   "execution_count": null,
   "id": "3598fbe0-653d-4b1c-9b12-0dc512f56a74",
   "metadata": {},
   "outputs": [],
   "source": []
  }
 ],
 "metadata": {
  "kernelspec": {
   "display_name": "Python 3 (ipykernel)",
   "language": "python",
   "name": "python3"
  },
  "language_info": {
   "codemirror_mode": {
    "name": "ipython",
    "version": 3
   },
   "file_extension": ".py",
   "mimetype": "text/x-python",
   "name": "python",
   "nbconvert_exporter": "python",
   "pygments_lexer": "ipython3",
   "version": "3.9.7"
  }
 },
 "nbformat": 4,
 "nbformat_minor": 5
}
